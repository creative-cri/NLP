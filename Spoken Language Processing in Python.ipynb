{
 "cells": [
  {
   "cell_type": "markdown",
   "id": "718b0d8e",
   "metadata": {},
   "source": [
    "# Spoken Language Processing in Python"
   ]
  },
  {
   "cell_type": "markdown",
   "id": "67784ec8",
   "metadata": {},
   "source": [
    "# 1. Introduction to Spoken Language Processing with Python"
   ]
  },
  {
   "cell_type": "markdown",
   "id": "cb9c68e8",
   "metadata": {},
   "source": [
    "## Introduction to audio data in Python"
   ]
  },
  {
   "cell_type": "markdown",
   "id": "8f56795a",
   "metadata": {},
   "source": [
    "### Importing an audio file with Python"
   ]
  },
  {
   "cell_type": "code",
   "execution_count": null,
   "id": "5c07a70f",
   "metadata": {},
   "outputs": [],
   "source": [
    "import wave\n",
    "\n",
    "# Create audio file wave object\n",
    "good_morning = wave.open('good_morning.wav', 'r')\n",
    "\n",
    "# Read all frames from wave object \n",
    "signal_gm = good_morning.readframes(-1)\n",
    "\n",
    "# View first 10\n",
    "print(signal_gm[:10])\n",
    "\n",
    "#   b'\\xfd\\xff\\xfb\\xff\\xf8\\xff\\xf8\\xff\\xf7\\xff'"
   ]
  },
  {
   "cell_type": "markdown",
   "id": "9102a4dd",
   "metadata": {},
   "source": [
    "## Converting sound wave bytes to integers"
   ]
  },
  {
   "cell_type": "markdown",
   "id": "f554d4c8",
   "metadata": {},
   "source": [
    "### Bytes to integers"
   ]
  },
  {
   "cell_type": "code",
   "execution_count": null,
   "id": "ae436eb2",
   "metadata": {},
   "outputs": [],
   "source": [
    "import numpy as np\n",
    "\n",
    "# Open good morning sound wave and read frames as bytes\n",
    "good_morning = wave.open('good_morning.wav', 'r')\n",
    "signal_gm = good_morning.readframes(-1)\n",
    "\n",
    "# Convert good morning audio bytes to integers\n",
    "soundwave_gm = np.frombuffer(signal_gm, dtype='int16')\n",
    "\n",
    "# View the first 10 sound wave values\n",
    "print(soundwave_gm[:10])\n",
    "\n",
    "# [ -3  -5  -8  -8  -9 -13  -8 -10  -9 -11]"
   ]
  },
  {
   "cell_type": "markdown",
   "id": "0b371bc7",
   "metadata": {},
   "source": [
    "### Finding the time stamps"
   ]
  },
  {
   "cell_type": "code",
   "execution_count": null,
   "id": "56f10e93",
   "metadata": {},
   "outputs": [],
   "source": [
    "# Read in sound wave and convert from bytes to integers\n",
    "good_morning = wave.open('good_morning.wav', 'r')\n",
    "signal_gm = good_morning.readframes(-1)\n",
    "soundwave_gm = np.frombuffer(signal_gm, dtype='int16')\n",
    "\n",
    "# Get the sound wave frame rate\n",
    "framerate_gm = good_morning.getframerate()\n",
    "\n",
    "# Find the sound wave timestamps\n",
    "time_gm = np.linspace(start=0,\n",
    "                      stop=len(soundwave_gm)/framerate_gm,\n",
    "                      num=len(soundwave_gm))\n",
    "\n",
    "# Print the first 10 timestamps\n",
    "print(time_gm[:10])\n",
    "\n",
    "\"\"\"\n",
    "    [0.00000000e+00 2.08334167e-05 4.16668333e-05 6.25002500e-05\n",
    "     8.33336667e-05 1.04167083e-04 1.25000500e-04 1.45833917e-04\n",
    "     1.66667333e-04 1.87500750e-04]\n",
    "\"\"\""
   ]
  },
  {
   "cell_type": "markdown",
   "id": "4c5cbc2b",
   "metadata": {},
   "source": [
    "## Visualizing sound waves"
   ]
  },
  {
   "cell_type": "markdown",
   "id": "42ea5f25",
   "metadata": {},
   "source": [
    "### Processing audio data with Python"
   ]
  },
  {
   "cell_type": "code",
   "execution_count": null,
   "id": "d371ee63",
   "metadata": {},
   "outputs": [],
   "source": [
    "# Setup the title and axis titles\n",
    "plt.title('Good Afternoon vs. Good Morning')\n",
    "plt.ylabel('Amplitude')\n",
    "plt.xlabel('Time (seconds)')\n",
    "\n",
    "# Add the Good Afternoon data to the plot\n",
    "plt.plot(time_ga, soundwave_ga, label='Good Afternoon')\n",
    "\n",
    "# Add the Good Morning data to the plot\n",
    "plt.plot(time_gm, soundwave_gm, label='Good Morning',\n",
    "   # Set the alpha variable to 0.5\n",
    "   alpha=0.5)\n",
    "\n",
    "plt.legend()\n",
    "plt.show()"
   ]
  },
  {
   "cell_type": "markdown",
   "id": "3c62ecc4",
   "metadata": {},
   "source": [
    "# 2. Using the Python SpeechRecognition library"
   ]
  },
  {
   "cell_type": "markdown",
   "id": "fe52c68f",
   "metadata": {},
   "source": [
    "## SpeechRecognition Python library"
   ]
  },
  {
   "cell_type": "code",
   "execution_count": null,
   "id": "f24eae58",
   "metadata": {},
   "outputs": [],
   "source": [
    "# Importing the speech_recognition library\n",
    "import speech_recognition as sr\n",
    "\n",
    "# Create an instance of the Recognizer class\n",
    "recognizer = sr.Recognizer()\n",
    "\n",
    "# Set the energy threshold\n",
    "recognizer.energy_threshold = 300"
   ]
  },
  {
   "cell_type": "markdown",
   "id": "3f535780",
   "metadata": {},
   "source": [
    "### Using the Recognizer class"
   ]
  },
  {
   "cell_type": "code",
   "execution_count": null,
   "id": "0be06a46",
   "metadata": {},
   "outputs": [],
   "source": [
    "# Create a recognizer class\n",
    "recognizer = sr.Recognizer()\n",
    "\n",
    "# Transcribe the support call audio\n",
    "text = recognizer.recognize_google(\n",
    "  audio_data=clean_support_call_audio, \n",
    "  language=\"en-US\")\n",
    "\n",
    "print(text)\n",
    "\n",
    "# hello I'd like to get some help setting up my account please"
   ]
  },
  {
   "cell_type": "markdown",
   "id": "28d8a1bd",
   "metadata": {},
   "source": [
    "## Reading audio files with SpeechRecognition"
   ]
  },
  {
   "cell_type": "markdown",
   "id": "0e71482d",
   "metadata": {},
   "source": [
    "### From AudioFile to AudioData"
   ]
  },
  {
   "cell_type": "code",
   "execution_count": null,
   "id": "99b9ee6c",
   "metadata": {},
   "outputs": [],
   "source": [
    "# Instantiate Recognizer\n",
    "recognizer = sr.Recognizer()\n",
    "\n",
    "# Convert audio to AudioFile\n",
    "clean_support_call = sr.AudioFile(\"clean_support_call.wav\")\n",
    "\n",
    "# Convert AudioFile to AudioData\n",
    "with clean_support_call as source:\n",
    "    clean_support_call_audio = recognizer.record(source)\n",
    "\n",
    "# Transcribe AudioData to text\n",
    "text = recognizer.recognize_google(clean_support_call_audio,\n",
    "                                   language=\"en-US\")\n",
    "print(text)\n",
    "\n",
    "# hello I'd like to get some help setting up my account please"
   ]
  },
  {
   "cell_type": "markdown",
   "id": "024b2091",
   "metadata": {},
   "source": [
    "### Recording the audio we need"
   ]
  },
  {
   "cell_type": "code",
   "execution_count": null,
   "id": "a701fb17",
   "metadata": {},
   "outputs": [],
   "source": [
    "# Convert AudioFile to AudioData\n",
    "with nothing_at_end as source:\n",
    "    nothing_at_end_audio = recognizer.record(source,\n",
    "                                             duration=10,\n",
    "                                             offset=None)\n",
    "\n",
    "# Transcribe AudioData to text\n",
    "text = recognizer.recognize_google(nothing_at_end_audio,\n",
    "                                   language=\"en-US\")\n",
    "\n",
    "print(text)\n",
    "\n",
    "# this audio file has 30 seconds of nothing at the end of it"
   ]
  },
  {
   "cell_type": "code",
   "execution_count": null,
   "id": "45083ad1",
   "metadata": {},
   "outputs": [],
   "source": [
    "# Convert AudioFile to AudioData\n",
    "with static_at_start as source:\n",
    "    static_art_start_audio = recognizer.record(source,\n",
    "                                               duration=None,\n",
    "                                               offset=3)\n",
    "\n",
    "# Transcribe AudioData to text\n",
    "text = recognizer.recognize_google(static_art_start_audio,\n",
    "                                   language=\"en-US\")\n",
    "\n",
    "print(text)\n",
    "\n",
    "# hello ID like to get some help with my device please I think it's out of warranty I bought it about two years ago"
   ]
  },
  {
   "cell_type": "markdown",
   "id": "d71d4fbb",
   "metadata": {},
   "source": [
    "## Dealing with different kinds of audio"
   ]
  },
  {
   "cell_type": "markdown",
   "id": "5cf87f32",
   "metadata": {},
   "source": [
    "### Different kinds of audio"
   ]
  },
  {
   "cell_type": "code",
   "execution_count": null,
   "id": "577f8f04",
   "metadata": {},
   "outputs": [],
   "source": [
    "# Create a recognizer class\n",
    "recognizer = sr.Recognizer()\n",
    "\n",
    "# Pass the Japanese audio to recognize_google\n",
    "text = recognizer.recognize_google(japanese_audio, language=\"en-US\")\n",
    "\n",
    "# Print the text\n",
    "print(text)\n",
    "\n",
    "# ohayo gozaimasu"
   ]
  },
  {
   "cell_type": "code",
   "execution_count": null,
   "id": "e890ede2",
   "metadata": {},
   "outputs": [],
   "source": [
    "# Create a recognizer class\n",
    "recognizer = sr.Recognizer()\n",
    "\n",
    "# Pass the Japanese audio to recognize_google\n",
    "text = recognizer.recognize_google(japanese_audio, language=\"ja\")\n",
    "\n",
    "# Print the text\n",
    "print(text)\n",
    "\n",
    "#  おはようございます"
   ]
  },
  {
   "cell_type": "code",
   "execution_count": null,
   "id": "4e905d01",
   "metadata": {},
   "outputs": [],
   "source": [
    "# Create a recognizer class\n",
    "recognizer = sr.Recognizer()\n",
    "\n",
    "# Pass the leopard audio to recognize_google\n",
    "text = recognizer.recognize_google(leopard_audio, \n",
    "                                   language=\"en-US\", \n",
    "                                   show_all=True)\n",
    "\n",
    "# Print the text\n",
    "print(text)\n",
    "\n",
    "#  []"
   ]
  },
  {
   "cell_type": "code",
   "execution_count": null,
   "id": "b0253d4f",
   "metadata": {},
   "outputs": [],
   "source": [
    "# Create a recognizer class\n",
    "recognizer = sr.Recognizer()\n",
    "\n",
    "# Pass charlie_audio to recognize_google\n",
    "text = recognizer.recognize_google(charlie_audio, \n",
    "                                   language=\"en-US\")\n",
    "\n",
    "# Print the text\n",
    "print(text)\n",
    "\n",
    "# Charlie Charlie bit me"
   ]
  },
  {
   "cell_type": "markdown",
   "id": "4b9237c4",
   "metadata": {},
   "source": [
    "### Multiple Speakers 1"
   ]
  },
  {
   "cell_type": "code",
   "execution_count": null,
   "id": "5e6ae082",
   "metadata": {},
   "outputs": [],
   "source": [
    "# Create a recognizer class\n",
    "recognizer = sr.Recognizer()\n",
    "\n",
    "# Recognize the multiple speaker AudioData\n",
    "text = recognizer.recognize_google(multiple_speakers,\n",
    "                                   language=\"en-US\")\n",
    "\n",
    "# Print the text\n",
    "print(text)\n",
    "\n",
    "\"\"\"\n",
    "one of the limitations of the speech recognition library is that it doesn't recognise different speakers and voices \n",
    "it will just return it all as one block a text \n",
    "\"\"\" "
   ]
  },
  {
   "cell_type": "markdown",
   "id": "031206c5",
   "metadata": {},
   "source": [
    "### Multiple Speakers 2"
   ]
  },
  {
   "cell_type": "code",
   "execution_count": null,
   "id": "913b3b80",
   "metadata": {},
   "outputs": [],
   "source": [
    "recognizer = sr.Recognizer()\n",
    "\n",
    "# Multiple speakers on different files\n",
    "speakers = [sr.AudioFile(\"speaker_0.wav\"), \n",
    "            sr.AudioFile(\"speaker_1.wav\"), \n",
    "            sr.AudioFile(\"speaker_2.wav\")]\n",
    "\n",
    "# Transcribe each speaker individually\n",
    "for i, speaker in enumerate(speakers):\n",
    "    with speaker as source:\n",
    "        speaker_audio = recognizer.record(source)\n",
    "    print(f\"Text from speaker {i}:\")\n",
    "    print(recognizer.recognize_google(speaker_audio,\n",
    "         \t\t\t\t\t\t\t  language=\"en-US\"))\n",
    "    \n",
    "\"\"\"\n",
    "    Text from speaker 0:\n",
    "    one of the limitations of the speech recognition library\n",
    "    \n",
    "    Text from speaker 1:\n",
    "    is that it doesn't recognise different speakers and voices\n",
    "    \n",
    "    Text from speaker 2:\n",
    "    it will just return it all as one block of text\n",
    "\"\"\""
   ]
  },
  {
   "cell_type": "markdown",
   "id": "232bdcc1",
   "metadata": {},
   "source": [
    "### Working with noisy audio"
   ]
  },
  {
   "cell_type": "code",
   "execution_count": null,
   "id": "4701edc8",
   "metadata": {},
   "outputs": [],
   "source": [
    "recognizer = sr.Recognizer()\n",
    "\n",
    "# Record the audio from the clean support call\n",
    "with clean_support_call as source:\n",
    "  clean_support_call_audio = recognizer.record(source)\n",
    "\n",
    "# Transcribe the speech from the clean support call\n",
    "text = recognizer.recognize_google(clean_support_call_audio,\n",
    "                                   language=\"en-US\")\n",
    "\n",
    "print(text)\n",
    "\n",
    "\"\"\"\n",
    "hello, ID like to get some help setting up my account please\n",
    "\"\"\""
   ]
  },
  {
   "cell_type": "code",
   "execution_count": null,
   "id": "a549b689",
   "metadata": {},
   "outputs": [],
   "source": [
    "recognizer = sr.Recognizer()\n",
    "\n",
    "# Record the audio from the noisy support call\n",
    "with noisy_support_call as source:\n",
    "  noisy_support_call_audio = recognizer.record(source)\n",
    "\n",
    "# Transcribe the speech from the noisy support call\n",
    "text = recognizer.recognize_google(noisy_support_call_audio,\n",
    "                                   language=\"en-US\",\n",
    "                                   show_all=True)\n",
    "\n",
    "print(text)\n",
    "\n",
    "\"\"\"\n",
    "{'alternative': [{'transcript': 'hello ID like to get some help setting up my calories', 'confidence': 0.75329071}, \n",
    "{'transcript': 'hello ID like to get some colour setting on my account please'}, {'transcript': 'hello ID like to get \n",
    "some colour setting on my calendar'}, {'transcript': 'hello ID like to get some help setting up my account please'}, \n",
    "{'transcript': 'hello ID like to get some colour setting on my account'}], 'final': True}\n",
    "\"\"\""
   ]
  },
  {
   "cell_type": "code",
   "execution_count": null,
   "id": "f4f21b53",
   "metadata": {},
   "outputs": [],
   "source": [
    "recognizer = sr.Recognizer()\n",
    "\n",
    "# Record the audio from the noisy support call\n",
    "with noisy_support_call as source:\n",
    "\t# Adjust the recognizer energy threshold for ambient noise\n",
    "    recognizer.adjust_for_ambient_noise(source, duration=1)\n",
    "    noisy_support_call_audio = recognizer.record(noisy_support_call)\n",
    " \n",
    "# Transcribe the speech from the noisy support call\n",
    "text = recognizer.recognize_google(noisy_support_call_audio,\n",
    "                                   language=\"en-US\",\n",
    "                                   show_all=True)\n",
    "\n",
    "print(text)\n",
    "\n",
    "\"\"\"\n",
    "{'alternative': [{'transcript': 'hello I like to get a coffee on my calendar', 'confidence': 0.60660481}, \n",
    "{'transcript': 'hello ID like to get a coffee on my calendar'}, {'transcript': 'hello ID like to get Siri on my calendar'}, \n",
    "{'transcript': 'hello ID like to get Siri on my account'}, {'transcript': 'hello I like to get Siri on my calendar'}], \n",
    "'final': True}\n",
    "\"\"\""
   ]
  },
  {
   "cell_type": "code",
   "execution_count": null,
   "id": "c9843eb6",
   "metadata": {},
   "outputs": [],
   "source": [
    "recognizer = sr.Recognizer()\n",
    "\n",
    "# Record the audio from the noisy support call\n",
    "with noisy_support_call as source:\n",
    "\t# Adjust the recognizer energy threshold for ambient noise\n",
    "    recognizer.adjust_for_ambient_noise(source, duration=0.5)\n",
    "    noisy_support_call_audio = recognizer.record(noisy_support_call)\n",
    " \n",
    "# Transcribe the speech from the noisy support call\n",
    "text = recognizer.recognize_google(noisy_support_call_audio,\n",
    "                                   language=\"en-US\",\n",
    "                                   show_all=True)\n",
    "\n",
    "print(text)\n",
    "\n",
    "\"\"\"\n",
    "{'alternative': [{'transcript': 'hello ID like to get some help setting up my calories', 'confidence': 0.88225818}, \n",
    "{'transcript': 'hello ID like to get some help setting up my account please'}, \n",
    "{'transcript': 'hello ID like to get some help setting up my account'}, \n",
    "{'transcript': 'hello ID like to get some help setting on my account please'}, \n",
    "{'transcript': 'hello ID like to get some help setting up my Kelly please'}], 'final': True}\n",
    "\"\"\""
   ]
  },
  {
   "cell_type": "markdown",
   "id": "aab0a81c",
   "metadata": {},
   "source": [
    "# 3. Manipulating Audio Files with PyDub"
   ]
  },
  {
   "cell_type": "markdown",
   "id": "1908d783",
   "metadata": {},
   "source": [
    "## Introduction to PyDub"
   ]
  },
  {
   "cell_type": "markdown",
   "id": "db03aa1f",
   "metadata": {},
   "source": [
    "### Import an audio file with PyDub"
   ]
  },
  {
   "cell_type": "markdown",
   "id": "0f5998aa",
   "metadata": {},
   "source": [
    "### Import an audio file with PyDub"
   ]
  },
  {
   "cell_type": "code",
   "execution_count": null,
   "id": "1bc46a1f",
   "metadata": {},
   "outputs": [],
   "source": [
    "# Import AudioSegment from Pydub\n",
    "from pydub import AudioSegment\n",
    "\n",
    "# Create an AudioSegment instance\n",
    "wav_file = AudioSegment.from_file(file=\"wav_file.wav\", \n",
    "                                  format=\"wav\")\n",
    "\n",
    "# Check the type\n",
    "print(type(wav_file))\n",
    "\n",
    "# <class 'pydub.audio_segment.AudioSegment'>"
   ]
  },
  {
   "cell_type": "markdown",
   "id": "d8a31e4a",
   "metadata": {},
   "source": [
    "### Play an audio file with PyDub"
   ]
  },
  {
   "cell_type": "code",
   "execution_count": null,
   "id": "95b4f14d",
   "metadata": {},
   "outputs": [],
   "source": [
    "# Import AudioSegment and play\n",
    "from pydub import AudioSegment\n",
    "from pydub.playback import play\n",
    "\n",
    "# Create an AudioSegment instance\n",
    "wav_file = AudioSegment.from_file(file=\"wav_file.wav\", \n",
    "                                  format=\"wav\")\n",
    "\n",
    "# Play the audio file\n",
    "play(wav_file)"
   ]
  },
  {
   "cell_type": "markdown",
   "id": "7cb908d2",
   "metadata": {},
   "source": [
    "### Audio parameters with PyDub"
   ]
  },
  {
   "cell_type": "code",
   "execution_count": null,
   "id": "f36ba7a8",
   "metadata": {},
   "outputs": [],
   "source": [
    "# Import audio file\n",
    "wav_file = AudioSegment.from_file(file=\"wav_file.wav\")\n",
    "\n",
    "# Find the frame rate\n",
    "print(wav_file.frame_rate)\n",
    "\n",
    "# 48000"
   ]
  },
  {
   "cell_type": "code",
   "execution_count": null,
   "id": "b13720b9",
   "metadata": {},
   "outputs": [],
   "source": [
    "# Import audio file\n",
    "wav_file = AudioSegment.from_file(file=\"wav_file.wav\")\n",
    "\n",
    "# Find the number of channels\n",
    "print(wav_file.channels)\n",
    "\n",
    "# 2"
   ]
  },
  {
   "cell_type": "code",
   "execution_count": null,
   "id": "f3ef72cf",
   "metadata": {},
   "outputs": [],
   "source": [
    "# Import audio file\n",
    "wav_file = AudioSegment.from_file(file=\"wav_file.wav\")\n",
    "\n",
    "# Find the max amplitude\n",
    "print(wav_file.max)\n",
    "\n",
    "# 8484"
   ]
  },
  {
   "cell_type": "code",
   "execution_count": null,
   "id": "e145b4dd",
   "metadata": {},
   "outputs": [],
   "source": [
    "# Import audio file\n",
    "wav_file = AudioSegment.from_file(file=\"wav_file.wav\")\n",
    "\n",
    "# Find the length in milliseconds\n",
    "print(len(wav_file))\n",
    "\n",
    "# 3284"
   ]
  },
  {
   "cell_type": "markdown",
   "id": "875146b5",
   "metadata": {},
   "source": [
    "### Adjusting audio parameters"
   ]
  },
  {
   "cell_type": "code",
   "execution_count": null,
   "id": "a580df15",
   "metadata": {},
   "outputs": [],
   "source": [
    "# Import audio file\n",
    "wav_file = AudioSegment.from_file(file=\"wav_file.wav\")\n",
    "\n",
    "# Create a new wav file with adjusted frame rate\n",
    "wav_file_16k = wav_file.set_frame_rate(16000)\n",
    "\n",
    "# Check the frame rate of the new wav file\n",
    "print(wav_file_16k.frame_rate)\n",
    "\n",
    "# 16000"
   ]
  },
  {
   "cell_type": "code",
   "execution_count": null,
   "id": "98d140b3",
   "metadata": {},
   "outputs": [],
   "source": [
    "# Import audio file\n",
    "wav_file = AudioSegment.from_file(file=\"wav_file.wav\")\n",
    "\n",
    "# Set number of channels to 1\n",
    "wav_file_1_ch = wav_file.set_channels(1)\n",
    "\n",
    "# Check the number of channels\n",
    "print(wav_file_1_ch.channels)\n",
    "\n",
    "# 1"
   ]
  },
  {
   "cell_type": "code",
   "execution_count": null,
   "id": "5e72acae",
   "metadata": {},
   "outputs": [],
   "source": [
    "# Import audio file\n",
    "wav_file = AudioSegment.from_file(file=\"wav_file.wav\")\n",
    "\n",
    "# Print sample_width\n",
    "print(f\"Old sample width: {wav_file.sample_width}\")\n",
    "\n",
    "# Set sample_width to 1\n",
    "wav_file_sw_1 = wav_file.set_sample_width(1)\n",
    "\n",
    "# Check new sample_width\n",
    "print(f\"New sample width: {wav_file_sw_1.sample_width}\")\n",
    "\n",
    "\"\"\"\n",
    "    Old sample width: 2\n",
    "    New sample width: 1\n",
    "\"\"\""
   ]
  },
  {
   "cell_type": "markdown",
   "id": "4af6cb61",
   "metadata": {},
   "source": [
    "## Manipulating audio files with PyDub"
   ]
  },
  {
   "cell_type": "markdown",
   "id": "ec1bb335",
   "metadata": {},
   "source": [
    "### Turning it down... then up"
   ]
  },
  {
   "cell_type": "code",
   "execution_count": null,
   "id": "a8a7d6c7",
   "metadata": {},
   "outputs": [],
   "source": [
    "from pydub import AudioSegment\n",
    "\n",
    "# Import audio file\n",
    "volume_adjusted = AudioSegment.from_file(\"volume_adjusted.wav\")\n",
    "\n",
    "# Lower the volume by 60 dB\n",
    "quiet_volume_adjusted = volume_adjusted - 60"
   ]
  },
  {
   "cell_type": "code",
   "execution_count": null,
   "id": "91a402ee",
   "metadata": {},
   "outputs": [],
   "source": [
    "from pydub import AudioSegment\n",
    "\n",
    "# Import audio file\n",
    "volume_adjusted = AudioSegment.from_file(\"volume_adjusted.wav\")\n",
    "\n",
    "# Increase the volume by 15 dB\n",
    "louder_volume_adjusted = volume_adjusted + 15"
   ]
  },
  {
   "cell_type": "markdown",
   "id": "02b7cf98",
   "metadata": {},
   "source": [
    "### Normalizing an audio file with PyDub"
   ]
  },
  {
   "cell_type": "code",
   "execution_count": null,
   "id": "9e06b9f2",
   "metadata": {},
   "outputs": [],
   "source": [
    "# Import AudioSegment and normalize\n",
    "from pydub import AudioSegment\n",
    "from pydub.effects import normalize\n",
    "\n",
    "# Import target audio file\n",
    "loud_then_quiet = AudioSegment.from_file(\"loud_then_quiet.wav\")\n",
    "\n",
    "# Normalize target audio file\n",
    "normalized_loud_then_quiet = normalize(loud_then_quiet)"
   ]
  },
  {
   "cell_type": "markdown",
   "id": "1759f2c6",
   "metadata": {},
   "source": [
    "### Chopping and changing audio files"
   ]
  },
  {
   "cell_type": "code",
   "execution_count": null,
   "id": "1e78d1f8",
   "metadata": {},
   "outputs": [],
   "source": [
    "from pydub import AudioSegment\n",
    "\n",
    "# Import part 1 and part 2 audio files\n",
    "part_1 = AudioSegment.from_file(\"part_1.wav\")\n",
    "part_2 = AudioSegment.from_file(\"part_2.wav\")\n",
    "\n",
    "# Remove the first four seconds of part 1\n",
    "part_1_removed = part_1[4000:]\n",
    "\n",
    "# Add the remainder of part 1 and part 2 together\n",
    "part_3 = part_1_removed + part_2"
   ]
  },
  {
   "cell_type": "markdown",
   "id": "76661ddf",
   "metadata": {},
   "source": [
    "### Splitting stereo audio to mono with PyDub"
   ]
  },
  {
   "cell_type": "code",
   "execution_count": null,
   "id": "2a34dda9",
   "metadata": {},
   "outputs": [],
   "source": [
    "# Import AudioSegment\n",
    "from pydub import AudioSegment\n",
    "\n",
    "# Import stereo audio file and check channels\n",
    "stereo_phone_call = AudioSegment.from_file(\"stereo_phone_call.wav\")\n",
    "print(f\"Stereo number channels: {stereo_phone_call.channels}\")\n",
    "\n",
    "# Split stereo phone call and check channels\n",
    "channels = stereo_phone_call.split_to_mono()\n",
    "print(f\"Split number channels: {channels[0].channels}, {channels[1].channels}\")\n",
    "\n",
    "# Save new channels separately\n",
    "phone_call_channel_1 = channels[0]\n",
    "phone_call_channel_2 = channels[1]\n",
    "\n",
    "\"\"\"\n",
    "    Stereo number channels: 2\n",
    "    Split number channels: 1, 1\n",
    "\"\"\""
   ]
  },
  {
   "cell_type": "markdown",
   "id": "c122ce94",
   "metadata": {},
   "source": [
    "## Converting and saving audio files with PyDub"
   ]
  },
  {
   "cell_type": "markdown",
   "id": "4afed1b0",
   "metadata": {},
   "source": [
    "### Exporting and reformatting audio files"
   ]
  },
  {
   "cell_type": "code",
   "execution_count": null,
   "id": "66a01346",
   "metadata": {},
   "outputs": [],
   "source": [
    "from pydub import AudioSegment\n",
    "\n",
    "# Import the .mp3 file\n",
    "mp3_file = AudioSegment.from_file(\"mp3_file.mp3\")\n",
    "\n",
    "# Export the .mp3 file as wav\n",
    "mp3_file.export(out_f=\"mp3_file.wav\",\n",
    "                format=\"wav\")"
   ]
  },
  {
   "cell_type": "markdown",
   "id": "30237f57",
   "metadata": {},
   "source": [
    "### Manipulating multiple audio files with PyDub"
   ]
  },
  {
   "cell_type": "code",
   "execution_count": null,
   "id": "a8807800",
   "metadata": {},
   "outputs": [],
   "source": [
    "# Loop through the files in the folder\n",
    "for audio_file in folder:\n",
    "    \n",
    "\t# Create the new .wav filename\n",
    "    wav_filename = os.path.splitext(os.path.basename(audio_file))[0] + \".wav\"\n",
    "        \n",
    "    # Read audio_file and export it in wav format\n",
    "    AudioSegment.from_file(audio_file).export(out_f=wav_filename, \n",
    "                                              format=\"wav\")\n",
    "        \n",
    "    print(f\"Creating {wav_filename}...\")\n",
    "    \n",
    "\"\"\"\n",
    "    Creating good_afternoon_mp3.wav...\n",
    "    Creating good_afternoon_m4a.wav...\n",
    "    Creating good_afternoon_aac.wav...\n",
    "\"\"\""
   ]
  },
  {
   "cell_type": "markdown",
   "id": "a67af84d",
   "metadata": {},
   "source": [
    "### An audio processing workflow"
   ]
  },
  {
   "cell_type": "code",
   "execution_count": null,
   "id": "212e70bf",
   "metadata": {},
   "outputs": [],
   "source": [
    "file_with_static = AudioSegment.from_file(\"account_help.mp3\")\n",
    "\n",
    "# Cut the 3-seconds of static off\n",
    "file_without_static = file_with_static[3000:]"
   ]
  },
  {
   "cell_type": "code",
   "execution_count": null,
   "id": "57ba4e53",
   "metadata": {},
   "outputs": [],
   "source": [
    "file_with_static = AudioSegment.from_file(\"account_help.mp3\")\n",
    "\n",
    "# Cut the 3-seconds of static off\n",
    "file_without_static = file_with_static[3000:]\n",
    "\n",
    "# Increase the volume by 10dB\n",
    "louder_file_without_static = file_without_static + 10"
   ]
  },
  {
   "cell_type": "code",
   "execution_count": null,
   "id": "3891b5e9",
   "metadata": {},
   "outputs": [],
   "source": [
    "for audio_file in folder:\n",
    "    file_with_static = AudioSegment.from_file(audio_file)\n",
    "\n",
    "    # Cut the 3-seconds of static off\n",
    "    file_without_static = file_with_static[3000:]\n",
    "\n",
    "    # Increase the volume by 10dB\n",
    "    louder_file_without_static = file_without_static + 10\n",
    "    \n",
    "    # Create the .wav filename for export\n",
    "    wav_filename = os.path.splitext(os.path.basename(audio_file))[0] + \".wav\"\n",
    "    \n",
    "    # Export the louder file without static as .wav\n",
    "    louder_file_without_static.export(wav_filename, format=\"wav\")\n",
    "    print(f\"Creating {wav_filename}...\")\n",
    "    \n",
    "    \n",
    "\"\"\"\n",
    "    Creating account_help.wav...\n",
    "    Creating make_complaint.wav...\n",
    "    Creating order_issue.wav...\n",
    "    Creating order_number.wav...\n",
    "    Creating out_warranty.wav...\n",
    "    Creating speech_recognition.wav...\n",
    "\"\"\""
   ]
  },
  {
   "cell_type": "markdown",
   "id": "50bef2e8",
   "metadata": {},
   "source": [
    "# 4. Processing text transcribed from spoken language"
   ]
  },
  {
   "cell_type": "markdown",
   "id": "18887720",
   "metadata": {},
   "source": [
    "## Creating transcription helper functions"
   ]
  },
  {
   "cell_type": "markdown",
   "id": "45480cab",
   "metadata": {},
   "source": [
    "### Converting audio to the right format"
   ]
  },
  {
   "cell_type": "code",
   "execution_count": null,
   "id": "30e602da",
   "metadata": {},
   "outputs": [],
   "source": [
    "# Create function to convert audio file to wav\n",
    "def convert_to_wav(filename):\n",
    "  \"\"\"Takes an audio file of non .wav format and converts to .wav\"\"\"\n",
    "  # Import audio file\n",
    "  audio = AudioSegment.from_file(filename)\n",
    "  \n",
    "  # Create new filename\n",
    "  new_filename = filename.split(\".\")[0] + \".wav\"\n",
    "  \n",
    "  # Export file as .wav\n",
    "  audio.export(new_filename, format=\"wav\")\n",
    "  print(f\"Converting {filename} to {new_filename}...\")\n",
    " \n",
    "# Test the function\n",
    "convert_to_wav(\"call_1.mp3\")\n",
    "\n",
    "\"\"\"\n",
    "Converting call_1.mp3 to call_1.wav...\n",
    "\"\"\""
   ]
  },
  {
   "cell_type": "markdown",
   "id": "d438508d",
   "metadata": {},
   "source": [
    "### Finding PyDub stats"
   ]
  },
  {
   "cell_type": "code",
   "execution_count": null,
   "id": "b60a978a",
   "metadata": {},
   "outputs": [],
   "source": [
    "def show_pydub_stats(filename):\n",
    "  \"\"\"Returns different audio attributes related to an audio file.\"\"\"\n",
    "  # Create AudioSegment instance\n",
    "  audio_segment = AudioSegment.from_file(filename)\n",
    "  \n",
    "  # Print audio attributes and return AudioSegment instance\n",
    "  print(f\"Channels: {audio_segment.channels}\")\n",
    "  print(f\"Sample width: {audio_segment.sample_width}\")\n",
    "  print(f\"Frame rate (sample rate): {audio_segment.frame_rate}\")\n",
    "  print(f\"Frame width: {audio_segment.frame_width}\")\n",
    "  print(f\"Length (ms): {len(audio_segment)}\")\n",
    "  return audio_segment\n",
    "\n",
    "# Try the function\n",
    "call_1_audio_segment = show_pydub_stats(\"call_1.wav\")\n",
    "\n",
    "\"\"\"\n",
    "    Channels: 2\n",
    "    Sample width: 2\n",
    "    Frame rate (sample rate): 32000\n",
    "    Frame width: 4\n",
    "    Length (ms): 54888\n",
    "\"\"\""
   ]
  },
  {
   "cell_type": "markdown",
   "id": "97f386f2",
   "metadata": {},
   "source": [
    "### Transcribing audio with one line"
   ]
  },
  {
   "cell_type": "code",
   "execution_count": null,
   "id": "99547f24",
   "metadata": {},
   "outputs": [],
   "source": [
    "def transcribe_audio(filename):\n",
    "  \"\"\"Takes a .wav format audio file and transcribes it to text.\"\"\"\n",
    "  # Setup a recognizer instance\n",
    "  recognizer = sr.Recognizer()\n",
    "  \n",
    "  # Import the audio file and convert to audio data\n",
    "  audio_file = sr.AudioFile(filename)\n",
    "  with audio_file as source:\n",
    "    audio_data = recognizer.record(source)\n",
    "  \n",
    "  # Return the transcribed text\n",
    "  return recognizer.recognize_google(audio_data)\n",
    "\n",
    "# Test the function\n",
    "print(transcribe_audio(\"call_1.wav\"))\n",
    "\n",
    "\"\"\"\n",
    "hello welcome to Acme studio support line my name is Daniel how can I best help you hey Daniel this is John I've recently \n",
    "bought a smart from you guys 3 weeks ago and I'm already having issues with it I know that's not good to hear John let's \n",
    "let's get your cell number and then we can we can set up a way to fix it for you one number for 17 varies how long do you \n",
    "reckon this is going to try our best to get the steel number will start up this support case I'm just really really really \n",
    "really I've been trying to contact past three 4 days now and I've been put on hold more than an hour and a half so I'm not \n",
    "really happy I kind of wanna get this issue 6 is f***** possible\n",
    "\"\"\""
   ]
  },
  {
   "cell_type": "markdown",
   "id": "b1fd479c",
   "metadata": {},
   "source": [
    "### Using the helper functions you've built"
   ]
  },
  {
   "cell_type": "code",
   "execution_count": null,
   "id": "1490d588",
   "metadata": {},
   "outputs": [],
   "source": [
    "# Convert mp3 file to wav\n",
    "convert_to_wav(\"call_1.mp3\")\n",
    "\n",
    "# Check the stats of new file\n",
    "call_1 = show_pydub_stats(\"call_1.wav\")\n",
    "\n",
    "\"\"\"\n",
    "    Converting call_1.mp3 to call_1.wav...\n",
    "    Channels: 2\n",
    "    Sample width: 2\n",
    "    Frame rate (sample rate): 32000\n",
    "    Frame width: 4\n",
    "    Length (ms): 54888\n",
    "\"\"\""
   ]
  },
  {
   "cell_type": "code",
   "execution_count": null,
   "id": "3768f8c5",
   "metadata": {},
   "outputs": [],
   "source": [
    "# Convert mp3 file to wav\n",
    "convert_to_wav(\"call_1.mp3\")\n",
    "\n",
    "# Check the stats of new file\n",
    "call_1 = show_pydub_stats(\"call_1.wav\")\n",
    "\n",
    "# Split call_1 to mono\n",
    "call_1_split = call_1.split_to_mono()\n",
    "\n",
    "# Export channel 2 (the customer channel)\n",
    "call_1_split[1].export(\"call_1_channel_2.wav\",\n",
    "                       format=\"wav\")"
   ]
  },
  {
   "cell_type": "code",
   "execution_count": null,
   "id": "c1a5f715",
   "metadata": {},
   "outputs": [],
   "source": [
    "# Convert mp3 file to wav\n",
    "convert_to_wav(\"call_1.mp3\")\n",
    "\n",
    "# Check the stats of new file\n",
    "call_1 = show_pydub_stats(\"call_1.wav\")\n",
    "\n",
    "# Split call_1 to mono\n",
    "call_1_split = call_1.split_to_mono()\n",
    "\n",
    "# Export channel 2 (the customer channel)\n",
    "call_1_split[1].export(\"call_1_channel_2.wav\",\n",
    "                       format=\"wav\")\n",
    "\n",
    "# Transcribe the single channel\n",
    "print(transcribe_audio(\"call_1_channel_2.wav\"))\n",
    "\n",
    "\"\"\"\n",
    "    Converting call_1.mp3 to call_1.wav...\n",
    "    Channels: 2\n",
    "    Sample width: 2\n",
    "    Frame rate (sample rate): 32000\n",
    "    Frame width: 4\n",
    "    Length (ms): 54888\n",
    "    hey Daniel this is John I've recently bought a smartphone from you guys 3 weeks ago and I'm already having issues with it once they can we grab my Siri number it is for 1757 and very displease how long do you reckon this is going to take a pee on hold for about an hour now right I'm just just really really really really just weasel this product I've been trying to contact supports the past past three 4 days now and have been put on hold for more than an hour and a half so I'm not really happy I kind of wanna get this issue fixed as fast as possible\n",
    "In [1]:\n",
    "\n",
    "\"\"\""
   ]
  },
  {
   "cell_type": "markdown",
   "id": "c5de2d5f",
   "metadata": {},
   "source": [
    "## Sentiment analysis on spoken language text"
   ]
  },
  {
   "cell_type": "markdown",
   "id": "884d3524",
   "metadata": {},
   "source": [
    "### Analyzing sentiment of a phone call"
   ]
  },
  {
   "cell_type": "code",
   "execution_count": null,
   "id": "7a6b3e7c",
   "metadata": {},
   "outputs": [],
   "source": [
    "from nltk.sentiment.vader import SentimentIntensityAnalyzer\n",
    "\n",
    "# Create SentimentIntensityAnalyzer instance\n",
    "sid = SentimentIntensityAnalyzer()\n",
    "\n",
    "# Let's try it on one of our phone calls\n",
    "call_2_text = transcribe_audio(\"call_2.wav\")\n",
    "\n",
    "# Display text and sentiment polarity scores\n",
    "print(call_2_text)\n",
    "print(sid.polarity_scores(call_2_text))\n",
    "\n",
    "\"\"\"\n",
    "hello my name is Daniel thank you for calling acne Studios how can I best help you a little bit more but I'm corner of Edward \n",
    "and Elizabeth according to Google according to the match but would you be able to help me in some way because I think I'm \n",
    "actually walk straight past your shop yeah sure thing or thank you so it's good to hear you're enjoying it let me find out \n",
    "where the nearest store is for you\n",
    "{'neg': 0.0, 'neu': 0.694, 'pos': 0.306, 'compound': 0.9817}\n",
    "\"\"\""
   ]
  },
  {
   "cell_type": "markdown",
   "id": "93ee2294",
   "metadata": {},
   "source": [
    "### Sentiment analysis on formatted text"
   ]
  },
  {
   "cell_type": "code",
   "execution_count": null,
   "id": "a7805101",
   "metadata": {},
   "outputs": [],
   "source": [
    "from nltk.sentiment.vader import SentimentIntensityAnalyzer\n",
    "\n",
    "# Create SentimentIntensityAnalyzer instance\n",
    "sid = SentimentIntensityAnalyzer()\n",
    "\n",
    "# Transcribe customer channel of call 2\n",
    "call_2_channel_2_text = transcribe_audio(\"call_2_channel_2.wav\")\n",
    "\n",
    "# Display text and sentiment polarity scores\n",
    "print(call_2_channel_2_text)\n",
    "print(sid.polarity_scores(call_2_channel_2_text))\n",
    "\n",
    "\"\"\"\n",
    " oh hi Daniel my name is Sally I recently purchased a smartphone from you guys and extremely happy with it I've just gotta \n",
    " issue not an issue but I've just got to learn a little bit more about the message bank on I have Google the location but \n",
    " I'm I'm finding it hard I thought you were on the corner of Edward and Elizabeth according to Google according to the match \n",
    " but would you be able to help me in some way because I think I've actually walk straight past your shop\n",
    " {'neg': 0.017, 'neu': 0.891, 'pos': 0.091, 'compound': 0.778}\n",
    "\"\"\""
   ]
  },
  {
   "cell_type": "code",
   "execution_count": null,
   "id": "5232f44b",
   "metadata": {},
   "outputs": [],
   "source": [
    "# Import sent_tokenize from nltk\n",
    "from nltk import sent_tokenize\n",
    "from nltk.sentiment.vader import SentimentIntensityAnalyzer\n",
    "\n",
    "# Create SentimentIntensityAnalyzer instance\n",
    "sid = SentimentIntensityAnalyzer()\n",
    "\n",
    "# Split call 2 channel 2 into sentences and score each\n",
    "for sentence in sent_tokenize(call_2_channel_2_text):\n",
    "    print(sentence)\n",
    "    print(sid.polarity_scores(sentence))\n",
    "    \n",
    "\"\"\"\n",
    "oh hi Daniel my name is Sally I recently purchased a smartphone from you guys and extremely happy with it I've just gotta \n",
    "issue not an issue but I've just got to learn a little bit more about the message bank on I have Google the location but \n",
    "I'm I'm finding it hard I thought you were on the corner of Edward and Elizabeth according to Google according to the match \n",
    "but would you be able to help me in some way because I think I've actually walk straight past your shop\n",
    "{'neg': 0.017, 'neu': 0.891, 'pos': 0.091, 'compound': 0.778}\n",
    "\"\"\""
   ]
  },
  {
   "cell_type": "code",
   "execution_count": null,
   "id": "765cd434",
   "metadata": {},
   "outputs": [],
   "source": [
    "# Import sent_tokenize from nltk\n",
    "from nltk import sent_tokenize\n",
    "from nltk.sentiment.vader import SentimentIntensityAnalyzer\n",
    "\n",
    "# Create SentimentIntensityAnalyzer instance\n",
    "sid = SentimentIntensityAnalyzer()\n",
    "\n",
    "# Split call 2 channel 2 paid text into sentences and score each\n",
    "for sentence in sent_tokenize(call_2_channel_2_paid_api_text):\n",
    "    print(sentence)\n",
    "    print(sid.polarity_scores(sentence))\n",
    "    \n",
    "\"\"\"\n",
    "    Hello and welcome to acme studios.\n",
    "    {'neg': 0.0, 'neu': 0.625, 'pos': 0.375, 'compound': 0.4588}\n",
    "    My name's Daniel.\n",
    "    {'neg': 0.0, 'neu': 1.0, 'pos': 0.0, 'compound': 0.0}\n",
    "    How can I best help you?\n",
    "    {'neg': 0.0, 'neu': 0.303, 'pos': 0.697, 'compound': 0.7845}\n",
    "    Hi Diane.\n",
    "    {'neg': 0.0, 'neu': 1.0, 'pos': 0.0, 'compound': 0.0}\n",
    "    This is paid on this call up to see the status of my, I'm proctor mortars at three weeks ago, and then service is terrible.\n",
    "    {'neg': 0.114, 'neu': 0.886, 'pos': 0.0, 'compound': -0.4767}\n",
    "    Okay, Peter, sorry to hear about that.\n",
    "    {'neg': 0.159, 'neu': 0.61, 'pos': 0.232, 'compound': 0.1531}\n",
    "    Hey, Peter, before we go on, do you mind just, uh, is there something going on with your microphone?\n",
    "    {'neg': 0.0, 'neu': 1.0, 'pos': 0.0, 'compound': 0.0}\n",
    "    I can't quite hear you.\n",
    "    {'neg': 0.0, 'neu': 1.0, 'pos': 0.0, 'compound': 0.0}\n",
    "    Is this any better?\n",
    "    {'neg': 0.0, 'neu': 0.508, 'pos': 0.492, 'compound': 0.4404}\n",
    "    Yeah, that's much better.\n",
    "    {'neg': 0.0, 'neu': 0.282, 'pos': 0.718, 'compound': 0.6249}\n",
    "    And sorry, what was, what was it that you said when you first first started speaking?\n",
    "    {'neg': 0.08, 'neu': 0.92, 'pos': 0.0, 'compound': -0.0772}\n",
    "    So I ordered a product from you guys three weeks ago and, uh, it's, it's currently on July 1st and I haven't received a provocative, again, three weeks to a full four weeks down line.\n",
    "    {'neg': 0.0, 'neu': 1.0, 'pos': 0.0, 'compound': 0.0}\n",
    "    This service is terrible.\n",
    "    {'neg': 0.508, 'neu': 0.492, 'pos': 0.0, 'compound': -0.4767}\n",
    "    Okay.\n",
    "    {'neg': 0.0, 'neu': 0.0, 'pos': 1.0, 'compound': 0.2263}\n",
    "    Well, what's your order id?\n",
    "    {'neg': 0.0, 'neu': 0.656, 'pos': 0.344, 'compound': 0.2732}\n",
    "    I'll, uh, I'll start looking into that for you.\n",
    "    {'neg': 0.0, 'neu': 1.0, 'pos': 0.0, 'compound': 0.0}\n",
    "    Six, nine, eight, seven five.\n",
    "    {'neg': 0.0, 'neu': 1.0, 'pos': 0.0, 'compound': 0.0}\n",
    "    Okay.\n",
    "    {'neg': 0.0, 'neu': 0.0, 'pos': 1.0, 'compound': 0.2263}\n",
    "    Thank you.\n",
    "    {'neg': 0.0, 'neu': 0.286, 'pos': 0.714, 'compound': 0.3612}\n",
    "\"\"\""
   ]
  },
  {
   "cell_type": "markdown",
   "id": "197b9ebc",
   "metadata": {},
   "source": [
    "## Named entity recognition on transcribed text"
   ]
  },
  {
   "cell_type": "markdown",
   "id": "b011f17a",
   "metadata": {},
   "source": [
    "### Named entity recognition in spaCy"
   ]
  },
  {
   "cell_type": "code",
   "execution_count": null,
   "id": "7808efe2",
   "metadata": {},
   "outputs": [],
   "source": [
    "import spacy\n",
    "\n",
    "# Transcribe call 4 channel 2\n",
    "call_4_channel_2_text = transcribe_audio(\"call_4_channel_2.wav\")\n",
    "\n",
    "# Create a spaCy language model instance\n",
    "nlp = spacy.load(\"en_core_web_sm\")\n",
    "\n",
    "# Create a spaCy doc with call 4 channel 2 text\n",
    "doc = nlp(call_4_channel_2_text)\n",
    "\n",
    "# Check the type\n",
    "print(type(doc))\n",
    "\n",
    "# <class 'spacy.tokens.doc.Doc'>"
   ]
  },
  {
   "cell_type": "code",
   "execution_count": null,
   "id": "98be6d6e",
   "metadata": {},
   "outputs": [],
   "source": [
    "import spacy\n",
    "\n",
    "# Load the spaCy language model\n",
    "nlp = spacy.load(\"en_core_web_sm\")\n",
    "\n",
    "# Create a spaCy doc with call 4 channel 2 text\n",
    "doc = nlp(call_4_channel_2_text)\n",
    "\n",
    "# Show tokens in doc\n",
    "for token in doc:\n",
    "    print(token.text, token.idx)\n",
    "    \n",
    "\"\"\"\n",
    "    oh 0\n",
    "    hello 3\n",
    "    Daniel 9\n",
    "    my 16\n",
    "    name 19\n",
    "    is 24\n",
    "    Ann 27\n",
    "    and 31\n",
    "    I 35\n",
    "    've 36\n",
    "    recently 40\n",
    "    just 49\n",
    "    purchased 54\n",
    "    are 64\n",
    "    a 68\n",
    "    smartphone 70\n",
    "    from 81\n",
    "    you 86\n",
    "    and 90\n",
    "    I 94\n",
    "    'm 95\n",
    "    very 98\n",
    "    happy 103\n",
    "    with 109\n",
    "    the 114\n",
    "    product 118\n",
    "    ID 126\n",
    "    like 129\n",
    "    to 134\n",
    "    order 137\n",
    "    another 143\n",
    "    one 151\n",
    "    for 155\n",
    "    my 159\n",
    "    friend 162\n",
    "    who 169\n",
    "    lives 173\n",
    "    in 179\n",
    "    Sydney 182\n",
    "    and 189\n",
    "    have 193\n",
    "    it 198\n",
    "    delivered 201\n",
    "    I 211\n",
    "    'm 212\n",
    "    pretty 215\n",
    "    sure 222\n",
    "    it 227\n",
    "    's 229\n",
    "    model 232\n",
    "    315 238\n",
    "    I 242\n",
    "    can 244\n",
    "    check 248\n",
    "    that 254\n",
    "    for 259\n",
    "    you 263\n",
    "    and 267\n",
    "    I 271\n",
    "    'll 272\n",
    "    give 276\n",
    "    you 281\n",
    "    my 285\n",
    "    details 288\n",
    "    arm 296\n",
    "    if 300\n",
    "    you 303\n",
    "    would 307\n",
    "    like 313\n",
    "    to 318\n",
    "    take 321\n",
    "    my 326\n",
    "    details 329\n",
    "    and 337\n",
    "    I 341\n",
    "    I 343\n",
    "    will 345\n",
    "    also 350\n",
    "    give 355\n",
    "    you 360\n",
    "    the 364\n",
    "    address 368\n",
    "    thank 376\n",
    "    you 382\n",
    "    excellent 386\n",
    "\"\"\""
   ]
  },
  {
   "cell_type": "code",
   "execution_count": null,
   "id": "0fce3af2",
   "metadata": {},
   "outputs": [],
   "source": [
    "import spacy\n",
    "\n",
    "# Load the spaCy language model\n",
    "nlp = spacy.load(\"en_core_web_sm\")\n",
    "\n",
    "# Create a spaCy doc with call 4 channel 2 text\n",
    "doc = nlp(call_4_channel_2_text)\n",
    "\n",
    "# Show sentences in doc\n",
    "for sentence in doc.sents:\n",
    "    print(sentence)\n",
    "\n",
    "\"\"\"\n",
    "    oh hello Daniel my name is Ann and I've recently just purchased are a smartphone from you\n",
    "    and I'm very happy with the product ID like to order another one for my friend who lives in Sydney and\n",
    "    have it delivered\n",
    "    I'm pretty sure it's model 315\n",
    "    I can check that for you\n",
    "    and I'll give you my details arm if you would like to take my details\n",
    "    and I I will also give you the address\n",
    "    thank you excellent\n",
    "\"\"\""
   ]
  },
  {
   "cell_type": "code",
   "execution_count": null,
   "id": "9ca968c2",
   "metadata": {},
   "outputs": [],
   "source": [
    "import spacy\n",
    "\n",
    "# Load the spaCy language model\n",
    "nlp = spacy.load(\"en_core_web_sm\")\n",
    "\n",
    "# Create a spaCy doc with call 4 channel 2 text\n",
    "doc = nlp(call_4_channel_2_text)\n",
    "\n",
    "# Show named entities and their labels\n",
    "for entity in doc.ents:\n",
    "    print(entity.text, entity.label_)\n",
    "\n",
    "\"\"\"\n",
    "    Ann PERSON\n",
    "    Sydney GPE\n",
    "    315 CARDINAL\n",
    "\"\"\""
   ]
  },
  {
   "cell_type": "markdown",
   "id": "8580da63",
   "metadata": {},
   "source": [
    "### Creating a custom named entity in spaCy"
   ]
  },
  {
   "cell_type": "code",
   "execution_count": null,
   "id": "00d91556",
   "metadata": {},
   "outputs": [],
   "source": [
    "# Import EntityRuler class\n",
    "from spacy.pipeline import EntityRuler\n",
    "\n",
    "# Create EntityRuler instance\n",
    "ruler = EntityRuler(nlp)\n",
    "\n",
    "# Define pattern for new entity\n",
    "ruler.add_patterns([{\"label\": \"PRODUCT\", \"pattern\": \"smartphone\"}])\n",
    "\n",
    "# Update existing pipeline\n",
    "nlp.add_pipe(ruler, before=\"ner\")\n",
    "\n",
    "# Test new entity\n",
    "for entity in doc.ents:\n",
    "  print(entity.text, entity.label_)\n",
    "\n",
    "\"\"\"\n",
    "    Ann PERSON\n",
    "    Sydney GPE\n",
    "    315 CARDINAL\n",
    "\"\"\""
   ]
  },
  {
   "cell_type": "markdown",
   "id": "86cd8a85",
   "metadata": {},
   "source": [
    "## Classifying transcribed speech with Sklearn"
   ]
  },
  {
   "cell_type": "markdown",
   "id": "255940be",
   "metadata": {},
   "source": [
    "### Preparing audio files for text classification"
   ]
  },
  {
   "cell_type": "code",
   "execution_count": null,
   "id": "662e9484",
   "metadata": {},
   "outputs": [],
   "source": [
    "# Convert post purchase\n",
    "for file in post_purchase:\n",
    "    print(f\"Converting {file} to .wav...\")\n",
    "    convert_to_wav(file)\n",
    "\n",
    "# Convert pre purchase\n",
    "for file in pre_purchase:\n",
    "    print(f\"Converting {file} to .wav...\")\n",
    "    convert_to_wav(file)\n",
    "\n",
    "\"\"\"\n",
    "    Converting post_purchase_audio_0.mp3 to .wav...\n",
    "    Converting post_purchase_audio_1.mp3 to .wav...\n",
    "    Converting post_purchase_audio_2.mp3 to .wav...\n",
    "    Converting post_purchase_audio_3.mp3 to .wav...\n",
    "    Converting post_purchase_audio_4.mp3 to .wav...\n",
    "    Converting post_purchase_audio_5.mp3 to .wav...\n",
    "    Converting post_purchase_audio_6.mp3 to .wav...\n",
    "    Converting post_purchase_audio_7.mp3 to .wav...\n",
    "    Converting post_purchase_audio_8.mp3 to .wav...\n",
    "    Converting post_purchase_audio_9.mp3 to .wav...\n",
    "    Converting post_purchase_audio_10.mp3 to .wav...\n",
    "    Converting post_purchase_audio_11.mp3 to .wav...\n",
    "    Converting post_purchase_audio_12.mp3 to .wav...\n",
    "    Converting post_purchase_audio_13.mp3 to .wav...\n",
    "    Converting post_purchase_audio_14.mp3 to .wav...\n",
    "    Converting post_purchase_audio_15.mp3 to .wav...\n",
    "    Converting post_purchase_audio_16.mp3 to .wav...\n",
    "    Converting post_purchase_audio_17.mp3 to .wav...\n",
    "    Converting post_purchase_audio_18.mp3 to .wav...\n",
    "    Converting post_purchase_audio_19.mp3 to .wav...\n",
    "    Converting post_purchase_audio_20.mp3 to .wav...\n",
    "    Converting post_purchase_audio_21.mp3 to .wav...\n",
    "    Converting post_purchase_audio_22.mp3 to .wav...\n",
    "    Converting post_purchase_audio_23.mp3 to .wav...\n",
    "    Converting post_purchase_audio_24.mp3 to .wav...\n",
    "    Converting post_purchase_audio_25.mp3 to .wav...\n",
    "    Converting post_purchase_audio_26.mp3 to .wav...\n",
    "    Converting post_purchase_audio_27.mp3 to .wav...\n",
    "    Converting post_purchase_audio_28.mp3 to .wav...\n",
    "    Converting post_purchase_audio_29.mp3 to .wav...\n",
    "    Converting post_purchase_audio_30.mp3 to .wav...\n",
    "    Converting post_purchase_audio_31.mp3 to .wav...\n",
    "    Converting post_purchase_audio_32.mp3 to .wav...\n",
    "    Converting post_purchase_audio_33.mp3 to .wav...\n",
    "    Converting post_purchase_audio_34.mp3 to .wav...\n",
    "    Converting post_purchase_audio_35.mp3 to .wav...\n",
    "    Converting post_purchase_audio_36.mp3 to .wav...\n",
    "    Converting post_purchase_audio_37.mp3 to .wav...\n",
    "    Converting post_purchase_audio_38.mp3 to .wav...\n",
    "    Converting post_purchase_audio_39.mp3 to .wav...\n",
    "    Converting post_purchase_audio_40.mp3 to .wav...\n",
    "    Converting post_purchase_audio_41.mp3 to .wav...\n",
    "    Converting post_purchase_audio_42.mp3 to .wav...\n",
    "    Converting post_purchase_audio_43.mp3 to .wav...\n",
    "    Converting post_purchase_audio_44.mp3 to .wav...\n",
    "    Converting post_purchase_audio_45.mp3 to .wav...\n",
    "    Converting post_purchase_audio_46.mp3 to .wav...\n",
    "    Converting post_purchase_audio_47.mp3 to .wav...\n",
    "    Converting post_purchase_audio_48.mp3 to .wav...\n",
    "    Converting post_purchase_audio_49.mp3 to .wav...\n",
    "    Converting post_purchase_audio_50.mp3 to .wav...\n",
    "    Converting post_purchase_audio_51.mp3 to .wav...\n",
    "    Converting post_purchase_audio_52.mp3 to .wav...\n",
    "    Converting post_purchase_audio_53.mp3 to .wav...\n",
    "    Converting post_purchase_audio_54.mp3 to .wav...\n",
    "    Converting post_purchase_audio_55.mp3 to .wav...\n",
    "    Converting post_purchase_audio_56.mp3 to .wav...\n",
    "    Converting pre_purchase_audio_0.mp3 to .wav...\n",
    "    Converting pre_purchase_audio_1.mp3 to .wav...\n",
    "    Converting pre_purchase_audio_2.mp3 to .wav...\n",
    "    Converting pre_purchase_audio_3.mp3 to .wav...\n",
    "    Converting pre_purchase_audio_4.mp3 to .wav...\n",
    "    Converting pre_purchase_audio_5.mp3 to .wav...\n",
    "    Converting pre_purchase_audio_6.mp3 to .wav...\n",
    "    Converting pre_purchase_audio_7.mp3 to .wav...\n",
    "    Converting pre_purchase_audio_8.mp3 to .wav...\n",
    "    Converting pre_purchase_audio_9.mp3 to .wav...\n",
    "    Converting pre_purchase_audio_10.mp3 to .wav...\n",
    "    Converting pre_purchase_audio_11.mp3 to .wav...\n",
    "    Converting pre_purchase_audio_12.mp3 to .wav...\n",
    "    Converting pre_purchase_audio_13.mp3 to .wav...\n",
    "    Converting pre_purchase_audio_14.mp3 to .wav...\n",
    "    Converting pre_purchase_audio_15.mp3 to .wav...\n",
    "    Converting pre_purchase_audio_16.mp3 to .wav...\n",
    "    Converting pre_purchase_audio_17.mp3 to .wav...\n",
    "    Converting pre_purchase_audio_18.mp3 to .wav...\n",
    "    Converting pre_purchase_audio_19.mp3 to .wav...\n",
    "    Converting pre_purchase_audio_20.mp3 to .wav...\n",
    "    Converting pre_purchase_audio_21.mp3 to .wav...\n",
    "    Converting pre_purchase_audio_22.mp3 to .wav...\n",
    "    Converting pre_purchase_audio_23.mp3 to .wav...\n",
    "    Converting pre_purchase_audio_24.mp3 to .wav...\n",
    "    Converting pre_purchase_audio_25.mp3 to .wav...\n",
    "    Converting pre_purchase_audio_26.mp3 to .wav...\n",
    "    Converting pre_purchase_audio_27.mp3 to .wav...\n",
    "    Converting pre_purchase_audio_28.mp3 to .wav...\n",
    "    Converting pre_purchase_audio_29.mp3 to .wav...\n",
    "    Converting pre_purchase_audio_30.mp3 to .wav...\n",
    "    Converting pre_purchase_audio_31.mp3 to .wav...\n",
    "    Converting pre_purchase_audio_32.mp3 to .wav...\n",
    "    Converting pre_purchase_audio_33.mp3 to .wav...\n",
    "    Converting pre_purchase_audio_34.mp3 to .wav...\n",
    "    Converting pre_purchase_audio_35.mp3 to .wav...\n",
    "    Converting pre_purchase_audio_36.mp3 to .wav...\n",
    "    Converting pre_purchase_audio_37.mp3 to .wav...\n",
    "    Converting pre_purchase_audio_38.mp3 to .wav...\n",
    "    Converting pre_purchase_audio_39.mp3 to .wav...\n",
    "    Converting pre_purchase_audio_40.mp3 to .wav...\n",
    "    Converting pre_purchase_audio_41.mp3 to .wav...\n",
    "    Converting pre_purchase_audio_42.mp3 to .wav...\n",
    "    Converting pre_purchase_audio_43.mp3 to .wav...\n",
    "    Converting pre_purchase_audio_44.mp3 to .wav...\n",
    "\"\"\""
   ]
  },
  {
   "cell_type": "markdown",
   "id": "2bb91f1b",
   "metadata": {},
   "source": [
    "### Transcribing phone call excerpts"
   ]
  },
  {
   "cell_type": "code",
   "execution_count": null,
   "id": "81651481",
   "metadata": {},
   "outputs": [],
   "source": [
    "def create_text_list(folder):\n",
    "  # Create empty list\n",
    "  text_list = []\n",
    "  \n",
    "  # Go through each file\n",
    "  for file in folder:\n",
    "    # Make sure the file is .wav\n",
    "    if file.endswith(\".wav\"):\n",
    "      print(f\"Transcribing file: {file}...\")\n",
    "      \n",
    "      # Transcribe audio and append text to list\n",
    "      text_list.append(transcribe_audio(file))\n",
    "  return text_list\n",
    "\n",
    "create_text_list(folder)\n",
    "\n",
    "# Transcribing file: post_purchase_audio_1.wav..."
   ]
  },
  {
   "cell_type": "code",
   "execution_count": null,
   "id": "f7bc40dc",
   "metadata": {},
   "outputs": [],
   "source": [
    "# Transcribe post and pre purchase text\n",
    "post_purchase_text = create_text_list(post_purchase_wav_files)\n",
    "pre_purchase_text = create_text_list(pre_purchase_wav_files)\n",
    "\n",
    "# Inspect the first transcription of post purchase\n",
    "print(post_purchase_text[0])\n",
    "\n",
    "\"\"\"\n",
    "    Transcribing file: post_purchase_audio_0.wav...\n",
    "    Transcribing file: post_purchase_audio_1.wav...\n",
    "    Transcribing file: post_purchase_audio_2.wav...\n",
    "    Transcribing file: post_purchase_audio_3.wav...\n",
    "    Transcribing file: post_purchase_audio_4.wav...\n",
    "    Transcribing file: post_purchase_audio_5.wav...\n",
    "    Transcribing file: post_purchase_audio_6.wav...\n",
    "    Transcribing file: post_purchase_audio_7.wav...\n",
    "    Transcribing file: post_purchase_audio_8.wav...\n",
    "    Transcribing file: post_purchase_audio_9.wav...\n",
    "    Transcribing file: post_purchase_audio_10.wav...\n",
    "    Transcribing file: post_purchase_audio_11.wav...\n",
    "    Transcribing file: post_purchase_audio_12.wav...\n",
    "    Transcribing file: post_purchase_audio_13.wav...\n",
    "    Transcribing file: post_purchase_audio_14.wav...\n",
    "    Transcribing file: post_purchase_audio_15.wav...\n",
    "    Transcribing file: post_purchase_audio_16.wav...\n",
    "    Transcribing file: post_purchase_audio_17.wav...\n",
    "    Transcribing file: post_purchase_audio_18.wav...\n",
    "    Transcribing file: post_purchase_audio_19.wav...\n",
    "    Transcribing file: post_purchase_audio_20.wav...\n",
    "    Transcribing file: post_purchase_audio_21.wav...\n",
    "    Transcribing file: post_purchase_audio_22.wav...\n",
    "    Transcribing file: post_purchase_audio_23.wav...\n",
    "    Transcribing file: post_purchase_audio_24.wav...\n",
    "    Transcribing file: post_purchase_audio_25.wav...\n",
    "    Transcribing file: post_purchase_audio_26.wav...\n",
    "    Transcribing file: post_purchase_audio_27.wav...\n",
    "    Transcribing file: post_purchase_audio_28.wav...\n",
    "    Transcribing file: post_purchase_audio_29.wav...\n",
    "    Transcribing file: post_purchase_audio_30.wav...\n",
    "    Transcribing file: post_purchase_audio_31.wav...\n",
    "    Transcribing file: post_purchase_audio_32.wav...\n",
    "    Transcribing file: post_purchase_audio_33.wav...\n",
    "    Transcribing file: post_purchase_audio_34.wav...\n",
    "    Transcribing file: post_purchase_audio_35.wav...\n",
    "    Transcribing file: post_purchase_audio_36.wav...\n",
    "    Transcribing file: post_purchase_audio_37.wav...\n",
    "    Transcribing file: post_purchase_audio_38.wav...\n",
    "    Transcribing file: post_purchase_audio_39.wav...\n",
    "    Transcribing file: post_purchase_audio_40.wav...\n",
    "    Transcribing file: post_purchase_audio_41.wav...\n",
    "    Transcribing file: post_purchase_audio_42.wav...\n",
    "    Transcribing file: post_purchase_audio_43.wav...\n",
    "    Transcribing file: post_purchase_audio_44.wav...\n",
    "    Transcribing file: post_purchase_audio_45.wav...\n",
    "    Transcribing file: post_purchase_audio_46.wav...\n",
    "    Transcribing file: post_purchase_audio_47.wav...\n",
    "    Transcribing file: post_purchase_audio_48.wav...\n",
    "    Transcribing file: post_purchase_audio_49.wav...\n",
    "    Transcribing file: post_purchase_audio_50.wav...\n",
    "    Transcribing file: post_purchase_audio_51.wav...\n",
    "    Transcribing file: post_purchase_audio_52.wav...\n",
    "    Transcribing file: post_purchase_audio_53.wav...\n",
    "    Transcribing file: post_purchase_audio_54.wav...\n",
    "    Transcribing file: post_purchase_audio_55.wav...\n",
    "    Transcribing file: post_purchase_audio_56.wav...\n",
    "    Transcribing file: pre_purchase_audio_0.wav...\n",
    "    Transcribing file: pre_purchase_audio_1.wav...\n",
    "    Transcribing file: pre_purchase_audio_2.wav...\n",
    "    Transcribing file: pre_purchase_audio_3.wav...\n",
    "    Transcribing file: pre_purchase_audio_4.wav...\n",
    "    Transcribing file: pre_purchase_audio_5.wav...\n",
    "    Transcribing file: pre_purchase_audio_6.wav...\n",
    "    Transcribing file: pre_purchase_audio_7.wav...\n",
    "    Transcribing file: pre_purchase_audio_8.wav...\n",
    "    Transcribing file: pre_purchase_audio_9.wav...\n",
    "    Transcribing file: pre_purchase_audio_10.wav...\n",
    "    Transcribing file: pre_purchase_audio_11.wav...\n",
    "    Transcribing file: pre_purchase_audio_12.wav...\n",
    "    Transcribing file: pre_purchase_audio_13.wav...\n",
    "    Transcribing file: pre_purchase_audio_14.wav...\n",
    "    Transcribing file: pre_purchase_audio_15.wav...\n",
    "    Transcribing file: pre_purchase_audio_16.wav...\n",
    "    Transcribing file: pre_purchase_audio_17.wav...\n",
    "    Transcribing file: pre_purchase_audio_18.wav...\n",
    "    Transcribing file: pre_purchase_audio_19.wav...\n",
    "    Transcribing file: pre_purchase_audio_20.wav...\n",
    "    Transcribing file: pre_purchase_audio_21.wav...\n",
    "    Transcribing file: pre_purchase_audio_22.wav...\n",
    "    Transcribing file: pre_purchase_audio_23.wav...\n",
    "    Transcribing file: pre_purchase_audio_24.wav...\n",
    "    Transcribing file: pre_purchase_audio_25.wav...\n",
    "    Transcribing file: pre_purchase_audio_26.wav...\n",
    "    Transcribing file: pre_purchase_audio_27.wav...\n",
    "    Transcribing file: pre_purchase_audio_28.wav...\n",
    "    Transcribing file: pre_purchase_audio_29.wav...\n",
    "    Transcribing file: pre_purchase_audio_30.wav...\n",
    "    Transcribing file: pre_purchase_audio_31.wav...\n",
    "    Transcribing file: pre_purchase_audio_32.wav...\n",
    "    Transcribing file: pre_purchase_audio_33.wav...\n",
    "    Transcribing file: pre_purchase_audio_34.wav...\n",
    "    Transcribing file: pre_purchase_audio_35.wav...\n",
    "    Transcribing file: pre_purchase_audio_36.wav...\n",
    "    Transcribing file: pre_purchase_audio_37.wav...\n",
    "    Transcribing file: pre_purchase_audio_38.wav...\n",
    "    Transcribing file: pre_purchase_audio_39.wav...\n",
    "    Transcribing file: pre_purchase_audio_40.wav...\n",
    "    Transcribing file: pre_purchase_audio_41.wav...\n",
    "    Transcribing file: pre_purchase_audio_42.wav...\n",
    "    Transcribing file: pre_purchase_audio_43.wav...\n",
    "    Transcribing file: pre_purchase_audio_44.wav...\n",
    "    hey man I just water product from you guys and I think is amazing but I leave a little help setting it up\n",
    "\"\"\""
   ]
  },
  {
   "cell_type": "markdown",
   "id": "977bb713",
   "metadata": {},
   "source": [
    "### Organizing transcribed phone call data"
   ]
  },
  {
   "cell_type": "code",
   "execution_count": null,
   "id": "35f6f69c",
   "metadata": {},
   "outputs": [],
   "source": [
    "import pandas as pd\n",
    "\n",
    "# Make dataframes with the text\n",
    "post_purchase_df = pd.DataFrame({\"label\": \"post_purchase\",\n",
    "                                 \"text\": post_purchase_text})\n",
    "pre_purchase_df = pd.DataFrame({\"label\": \"pre_purchase\",\n",
    "                                \"text\": pre_purchase_text})\n",
    "\n",
    "# Combine DataFrames\n",
    "df = pd.concat([post_purchase_df, pre_purchase_df])\n",
    "\n",
    "# Print the combined DataFrame\n",
    "print(df.head())\n",
    "\n",
    "\n",
    "\"\"\"\n",
    "               label                                               text\n",
    "    0  post_purchase  hey man I just bought a product from you guys ...\n",
    "    1  post_purchase  these clothes I just bought from you guys too ...\n",
    "    2  post_purchase  I recently got these pair of shoes but they're...\n",
    "    3  post_purchase  I bought a pair of pants from you guys but the...\n",
    "    4  post_purchase  I bought a pair of pants and they're the wrong...\n",
    "\"\"\""
   ]
  },
  {
   "cell_type": "markdown",
   "id": "7a9d53c0",
   "metadata": {},
   "source": [
    "### Create a spoken language text classifier"
   ]
  },
  {
   "cell_type": "code",
   "execution_count": null,
   "id": "d541e64b",
   "metadata": {},
   "outputs": [],
   "source": [
    "# Build the text_classifier as an sklearn pipeline\n",
    "text_classifier = Pipeline([\n",
    "    ('vectorizer', CountVectorizer()),\n",
    "    ('tfidf', TfidfTransformer()),\n",
    "    ('classifier', MultinomialNB()),\n",
    "])\n",
    "\n",
    "# Fit the classifier pipeline on the training data\n",
    "text_classifier.fit(train_df.text, train_df.label)\n",
    "\n",
    "# Evaluate the MultinomialNB model\n",
    "predicted = text_classifier.predict(test_df.text)\n",
    "accuracy = 100 * np.mean(predicted == test_df.label)\n",
    "print(f'The model is {accuracy}% accurate')\n",
    "\n",
    "\"\"\"\n",
    "The model is 90.47619047619048% accurate\n",
    "\"\"\""
   ]
  }
 ],
 "metadata": {
  "kernelspec": {
   "display_name": "Python 3 (ipykernel)",
   "language": "python",
   "name": "python3"
  },
  "language_info": {
   "codemirror_mode": {
    "name": "ipython",
    "version": 3
   },
   "file_extension": ".py",
   "mimetype": "text/x-python",
   "name": "python",
   "nbconvert_exporter": "python",
   "pygments_lexer": "ipython3",
   "version": "3.9.7"
  }
 },
 "nbformat": 4,
 "nbformat_minor": 5
}
